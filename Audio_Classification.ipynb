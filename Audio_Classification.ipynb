{
  "cells": [
    {
      "cell_type": "code",
      "execution_count": null,
      "metadata": {
        "colab": {
          "base_uri": "https://localhost:8080/"
        },
        "id": "ZPzXljDoA6Il",
        "outputId": "f9c4a2a9-9ec2-4996-9698-0b07479b24c3"
      },
      "outputs": [
        {
          "metadata": {
            "tags": null
          },
          "name": "stdout",
          "output_type": "stream",
          "text": [
            "Warning: Looks like you're using an outdated `kagglehub` version (installed: 0.3.5), please consider upgrading to the latest version (0.3.6).\n",
            "Downloading from https://www.kaggle.com/api/v1/datasets/download/nhattruongdev/musan-noise?dataset_version_number=1...\n"
          ]
        },
        {
          "metadata": {
            "tags": null
          },
          "name": "stderr",
          "output_type": "stream",
          "text": [
            "100%|██████████| 10.3G/10.3G [01:46<00:00, 104MB/s]"
          ]
        },
        {
          "metadata": {
            "tags": null
          },
          "name": "stdout",
          "output_type": "stream",
          "text": [
            "Extracting files...\n"
          ]
        },
        {
          "metadata": {
            "tags": null
          },
          "name": "stderr",
          "output_type": "stream",
          "text": [
            "\n"
          ]
        },
        {
          "output_type": "stream",
          "name": "stdout",
          "text": [
            "Data source import complete.\n"
          ]
        }
      ],
      "source": [
        "\n",
        "import kagglehub\n",
        "nhattruongdev_musan_noise_path = kagglehub.dataset_download('nhattruongdev/musan-noise')\n",
        "\n",
        "print('Data source import complete.')\n"
      ]
    },
    {
      "cell_type": "code",
      "execution_count": null,
      "metadata": {
        "colab": {
          "base_uri": "https://localhost:8080/"
        },
        "collapsed": true,
        "id": "XeT3v73WEoQJ",
        "outputId": "18a63a22-7f09-49d2-d24c-6027130fbe2b"
      },
      "outputs": [
        {
          "name": "stdout",
          "output_type": "stream",
          "text": [
            "Dataset path: /root/.cache/kagglehub/datasets/nhattruongdev/musan-noise/versions/1\n"
          ]
        }
      ],
      "source": [
        "print(\"Dataset path:\", nhattruongdev_musan_noise_path)\n"
      ]
    },
    {
      "cell_type": "code",
      "execution_count": null,
      "metadata": {
        "colab": {
          "base_uri": "https://localhost:8080/"
        },
        "id": "Z9gPxrWSGWCF",
        "outputId": "6d98b81e-d81e-4d7c-ad74-6bcb5d50e6ee"
      },
      "outputs": [
        {
          "output_type": "stream",
          "name": "stdout",
          "text": [
            "Current Working Directory: /content\n"
          ]
        }
      ],
      "source": [
        "import os\n",
        "print(\"Current Working Directory:\", os.getcwd())\n"
      ]
    },
    {
      "cell_type": "code",
      "execution_count": null,
      "metadata": {
        "colab": {
          "base_uri": "https://localhost:8080/"
        },
        "collapsed": true,
        "id": "yBHAT-Q9Ger4",
        "outputId": "06004305-7d6e-4287-afcc-09a33ec1cd8b"
      },
      "outputs": [
        {
          "output_type": "stream",
          "name": "stdout",
          "text": [
            "Dataset copied successfully to /content/musan_noise_data\n"
          ]
        }
      ],
      "source": [
        "import shutil\n",
        "import os\n",
        "\n",
        "# Source path: Where the dataset is downloaded\n",
        "source_path = \"/root/.cache/kagglehub/datasets/nhattruongdev/musan-noise/versions/1\"\n",
        "\n",
        "# Destination path: Notebook's working directory\n",
        "destination_path = os.path.join(os.getcwd(), 'musan_noise_data')\n",
        "\n",
        "# Ensure the destination directory exists\n",
        "os.makedirs(destination_path, exist_ok=True)\n",
        "\n",
        "# Copy the dataset\n",
        "shutil.copytree(source_path, destination_path, dirs_exist_ok=True)\n",
        "\n",
        "print(f\"Dataset copied successfully to {destination_path}\")"
      ]
    },
    {
      "cell_type": "code",
      "source": [
        "#import urban sound 8k\n",
        "import kagglehub\n",
        "\n",
        "# Download latest version\n",
        "path = kagglehub.dataset_download(\"rupakroy/urban-sound-8k\")\n",
        "print('Data source import complete.')\n",
        "\n"
      ],
      "metadata": {
        "colab": {
          "base_uri": "https://localhost:8080/"
        },
        "id": "wu5OZPh3FjRX",
        "outputId": "fedda804-c155-4fcd-b4fd-7dd681a377d3"
      },
      "execution_count": null,
      "outputs": [
        {
          "output_type": "stream",
          "name": "stdout",
          "text": [
            "Warning: Looks like you're using an outdated `kagglehub` version (installed: 0.3.5), please consider upgrading to the latest version (0.3.6).\n",
            "Downloading from https://www.kaggle.com/api/v1/datasets/download/rupakroy/urban-sound-8k?dataset_version_number=1...\n"
          ]
        },
        {
          "output_type": "stream",
          "name": "stderr",
          "text": [
            "100%|██████████| 5.61G/5.61G [01:38<00:00, 61.4MB/s]"
          ]
        },
        {
          "output_type": "stream",
          "name": "stdout",
          "text": [
            "Extracting files...\n"
          ]
        },
        {
          "output_type": "stream",
          "name": "stderr",
          "text": [
            "\n"
          ]
        },
        {
          "output_type": "stream",
          "name": "stdout",
          "text": [
            "Data source import complete.\n"
          ]
        }
      ]
    },
    {
      "cell_type": "code",
      "source": [
        "#copy the urban sound 8k dataset to current working directory\n",
        "import shutil\n",
        "import os\n",
        "\n",
        "# Source path: Where the dataset is downloaded\n",
        "\n",
        "src = \"/root/.cache/kagglehub/datasets/rupakroy/urban-sound-8k/versions/1\"\n",
        "\n",
        "# Destination path: Notebook's working directory\n",
        "dst = os.path.join(os.getcwd(), 'urban_sound_data')\n",
        "\n",
        "# Ensure the destination directory exists\n",
        "os.makedirs(dst, exist_ok=True)\n",
        "\n",
        "# Copy the dataset\n",
        "shutil.copytree(src, dst, dirs_exist_ok=True)\n",
        "\n",
        "print(f\"Dataset copied successfully to {dst}\")"
      ],
      "metadata": {
        "colab": {
          "base_uri": "https://localhost:8080/"
        },
        "id": "a7dDAmo1Fox_",
        "outputId": "d0421bbe-c299-4ca7-ab0d-9342e71e6b1b"
      },
      "execution_count": null,
      "outputs": [
        {
          "output_type": "stream",
          "name": "stdout",
          "text": [
            "Dataset copied successfully to /content/urban_sound_data\n"
          ]
        }
      ]
    },
    {
      "cell_type": "code",
      "execution_count": null,
      "metadata": {
        "colab": {
          "base_uri": "https://localhost:8080/"
        },
        "collapsed": true,
        "id": "StArIgo9HnBU",
        "outputId": "f4d83944-018b-4819-dc39-f9c40d73fd59"
      },
      "outputs": [
        {
          "name": "stdout",
          "output_type": "stream",
          "text": [
            "Root: /content/musan_noise_data\n",
            "Directories: ['musan']\n",
            "Files: []\n",
            "\n",
            "\n",
            "Root: /content/musan_noise_data/musan\n",
            "Directories: ['music', 'noise', 'speech']\n",
            "Files: ['README']\n",
            "\n",
            "\n",
            "Root: /content/musan_noise_data/musan/music\n",
            "Directories: ['fma-western-art', 'hd-classical', 'fma', 'jamendo', 'rfm']\n",
            "Files: ['README']\n",
            "\n",
            "\n",
            "Root: /content/musan_noise_data/musan/music/fma-western-art\n",
            "Directories: []\n",
            "Files: ['music-fma-wa-0022.wav', 'music-fma-wa-0075.wav', 'music-fma-wa-0062.wav', 'music-fma-wa-0034.wav', 'music-fma-wa-0026.wav', 'music-fma-wa-0045.wav', 'music-fma-wa-0059.wav', 'LICENSE', 'music-fma-wa-0040.wav', 'music-fma-wa-0005.wav']\n",
            "\n",
            "\n",
            "Root: /content/musan_noise_data/musan/music/hd-classical\n",
            "Directories: []\n",
            "Files: ['music-hd-0039.wav', 'music-hd-0012.wav', 'music-hd-0053.wav', 'music-hd-0002.wav', 'music-hd-0021.wav', 'music-hd-0060.wav', 'music-hd-0008.wav', 'music-hd-0074.wav', 'music-hd-0047.wav', 'LICENSE']\n",
            "\n",
            "\n",
            "Root: /content/musan_noise_data/musan/music/fma\n",
            "Directories: []\n",
            "Files: ['music-fma-0012.wav', 'music-fma-0113.wav', 'music-fma-0107.wav', 'music-fma-0118.wav', 'music-fma-0125.wav', 'music-fma-0046.wav', 'music-fma-0054.wav', 'music-fma-0108.wav', 'music-fma-0038.wav', 'music-fma-0075.wav']\n",
            "\n",
            "\n",
            "Root: /content/musan_noise_data/musan/music/jamendo\n",
            "Directories: []\n",
            "Files: ['music-jamendo-0026.wav', 'music-jamendo-0055.wav', 'music-jamendo-0135.wav', 'music-jamendo-0155.wav', 'music-jamendo-0168.wav', 'music-jamendo-0184.wav', 'music-jamendo-0193.wav', 'music-jamendo-0216.wav', 'music-jamendo-0102.wav', 'music-jamendo-0158.wav']\n",
            "\n",
            "\n",
            "Root: /content/musan_noise_data/musan/music/rfm\n",
            "Directories: []\n",
            "Files: ['music-rfm-0111.wav', 'music-rfm-0055.wav', 'music-rfm-0028.wav', 'music-rfm-0131.wav', 'music-rfm-0043.wav', 'music-rfm-0042.wav', 'music-rfm-0057.wav', 'music-rfm-0038.wav', 'music-rfm-0020.wav', 'music-rfm-0002.wav']\n",
            "\n",
            "\n",
            "Root: /content/musan_noise_data/musan/noise\n",
            "Directories: ['sound-bible', 'free-sound']\n",
            "Files: ['README']\n",
            "\n",
            "\n",
            "Root: /content/musan_noise_data/musan/noise/sound-bible\n",
            "Directories: []\n",
            "Files: ['noise-sound-bible-0071.wav', 'noise-sound-bible-0054.wav', 'noise-sound-bible-0038.wav', 'noise-sound-bible-0002.wav', 'noise-sound-bible-0066.wav', 'noise-sound-bible-0047.wav', 'noise-sound-bible-0068.wav', 'LICENSE', 'noise-sound-bible-0029.wav', 'noise-sound-bible-0050.wav']\n",
            "\n",
            "\n",
            "Root: /content/musan_noise_data/musan/noise/free-sound\n",
            "Directories: []\n",
            "Files: ['noise-free-sound-0228.wav', 'noise-free-sound-0717.wav', 'noise-free-sound-0022.wav', 'noise-free-sound-0205.wav', 'noise-free-sound-0295.wav', 'noise-free-sound-0619.wav', 'noise-free-sound-0655.wav', 'noise-free-sound-0833.wav', 'noise-free-sound-0334.wav', 'noise-free-sound-0267.wav']\n",
            "\n",
            "\n",
            "Root: /content/musan_noise_data/musan/speech\n",
            "Directories: ['librivox', 'us-gov']\n",
            "Files: ['README']\n",
            "\n",
            "\n",
            "Root: /content/musan_noise_data/musan/speech/librivox\n",
            "Directories: []\n",
            "Files: ['speech-librivox-0149.wav', 'speech-librivox-0077.wav', 'speech-librivox-0105.wav', 'speech-librivox-0034.wav', 'speech-librivox-0032.wav', 'speech-librivox-0059.wav', 'speech-librivox-0107.wav', 'speech-librivox-0170.wav', 'speech-librivox-0009.wav', 'speech-librivox-0137.wav']\n",
            "\n",
            "\n",
            "Root: /content/musan_noise_data/musan/speech/us-gov\n",
            "Directories: []\n",
            "Files: ['speech-us-gov-0016.wav', 'speech-us-gov-0176.wav', 'speech-us-gov-0023.wav', 'speech-us-gov-0069.wav', 'speech-us-gov-0102.wav', 'speech-us-gov-0142.wav', 'speech-us-gov-0124.wav', 'speech-us-gov-0221.wav', 'speech-us-gov-0021.wav', 'speech-us-gov-0090.wav']\n",
            "\n",
            "\n"
          ]
        }
      ],
      "source": [
        "# List files in the destination directory\n",
        "for root, dirs, files in os.walk(destination_path):\n",
        "    print(\"Root:\", root)\n",
        "    print(\"Directories:\", dirs)\n",
        "    print(\"Files:\", files[:10])  # Print first 10 files\n",
        "    print(\"\\n\")\n"
      ]
    },
    {
      "cell_type": "code",
      "execution_count": null,
      "metadata": {
        "colab": {
          "base_uri": "https://localhost:8080/"
        },
        "id": "U3WtKchgdWgu",
        "outputId": "53e1d5d4-fbab-4ac6-c8ca-03fae3f884f0"
      },
      "outputs": [
        {
          "output_type": "stream",
          "name": "stdout",
          "text": [
            "Directories have been flattened successfully!\n"
          ]
        }
      ],
      "source": [
        "import os\n",
        "import shutil\n",
        "\n",
        "def flatten_directory(parent_dir):\n",
        "    # Iterate through each class folder (music, speech, noise)\n",
        "    for subdir in os.listdir(parent_dir):\n",
        "        class_dir = os.path.join(parent_dir, subdir)\n",
        "        if os.path.isdir(class_dir):\n",
        "            # Iterate through subdirectories\n",
        "            for root, _, files in os.walk(class_dir):\n",
        "                for file in files:\n",
        "                    if file.endswith('.wav'):\n",
        "                        # Move .wav files to the main class directory\n",
        "                        source = os.path.join(root, file)\n",
        "                        destination = os.path.join(class_dir, file)\n",
        "                        if not os.path.exists(destination):  # Avoid overwriting files\n",
        "                            shutil.move(source, destination)\n",
        "\n",
        "            # Remove empty subdirectories after moving files\n",
        "            for root, dirs, _ in os.walk(class_dir, topdown=False):\n",
        "                for dir_name in dirs:\n",
        "                    dir_path = os.path.join(root, dir_name)\n",
        "                    if not os.listdir(dir_path):  # Check if directory is empty\n",
        "                        os.rmdir(dir_path)\n",
        "\n",
        "# Set the parent directory where 'music', 'speech', and 'noise' folders are located\n",
        "parent_directory = \"/content/musan_noise_data/musan\"\n",
        "flatten_directory(parent_directory)\n",
        "\n",
        "print(\"Directories have been flattened successfully!\")\n"
      ]
    },
    {
      "cell_type": "code",
      "source": [
        "import os\n",
        "import shutil\n",
        "\n",
        "# Source folders\n",
        "source_folders = [\n",
        "    \"urban_sound_data/UrbanSound8K/UrbanSound8K/audio/fold1\",\n",
        "    \"urban_sound_data/UrbanSound8K/UrbanSound8K/audio/fold2\",\n",
        "    \"urban_sound_data/UrbanSound8K/UrbanSound8K/audio/fold3\",\n",
        "    \"urban_sound_data/UrbanSound8K/UrbanSound8K/audio/fold4\",\n",
        "    \"urban_sound_data/UrbanSound8K/UrbanSound8K/audio/fold5\",\n",
        "    \"urban_sound_data/UrbanSound8K/UrbanSound8K/audio/fold6\",\n",
        "    \"urban_sound_data/UrbanSound8K/UrbanSound8K/audio/fold7\",\n",
        "    \"urban_sound_data/UrbanSound8K/UrbanSound8K/audio/fold8\",\n",
        "    \"urban_sound_data/UrbanSound8K/UrbanSound8K/audio/fold9\"\n",
        "]\n",
        "\n",
        "# Destination folder\n",
        "destination_folder = \"musan_noise_data/musan/noise\"\n",
        "\n",
        "# Create the destination folder if it doesn't exist\n",
        "os.makedirs(destination_folder, exist_ok=True)\n",
        "\n",
        "# Iterate through source folders and copy .wav files\n",
        "for folder in source_folders:\n",
        "    for filename in os.listdir(folder):\n",
        "        if filename.endswith(\".wav\"):\n",
        "            source_path = os.path.join(folder, filename)\n",
        "            destination_path = os.path.join(destination_folder, filename)\n",
        "            shutil.copy(source_path, destination_path)\n",
        "\n",
        "print(\"Files copied successfully!\")"
      ],
      "metadata": {
        "colab": {
          "base_uri": "https://localhost:8080/"
        },
        "id": "QC-XbLY0Ft7V",
        "outputId": "83a9ea4e-bff3-4df0-9017-4a3501b93036"
      },
      "execution_count": null,
      "outputs": [
        {
          "output_type": "stream",
          "name": "stdout",
          "text": [
            "Files copied successfully!\n"
          ]
        }
      ]
    },
    {
      "cell_type": "code",
      "execution_count": null,
      "metadata": {
        "colab": {
          "base_uri": "https://localhost:8080/"
        },
        "id": "Lq5jOjhCwt1z",
        "outputId": "46cd6106-f027-4f31-a373-f5ace5326a21"
      },
      "outputs": [
        {
          "output_type": "stream",
          "name": "stdout",
          "text": [
            "Number of .wav files in music: 660\n",
            "Number of .wav files in noise: 8825\n",
            "Number of .wav files in speech: 426\n"
          ]
        }
      ],
      "source": [
        "#print total number of files in each of music, noise and speech folder\n",
        "\n",
        "\n",
        "\n",
        "def count_wav_files_in_folders(parent_directory):\n",
        "    for subdir in ['music', 'noise', 'speech']:\n",
        "        folder_path = os.path.join(parent_directory, subdir)\n",
        "        wav_files = [f for f in os.listdir(folder_path) if os.path.isfile(os.path.join(folder_path, f)) and f.endswith('.wav')]\n",
        "        num_wav_files = len(wav_files)\n",
        "        print(f\"Number of .wav files in {subdir}: {num_wav_files}\")\n",
        "\n",
        "# Set the parent directory where 'music', 'speech', and 'noise' folders are located\n",
        "parent_directory = \"/content/musan_noise_data/musan\"\n",
        "count_wav_files_in_folders(parent_directory)\n"
      ]
    },
    {
      "cell_type": "code",
      "source": [
        "#remove/urban_sound_8k\n",
        "import shutil\n",
        "import os\n",
        "\n",
        "# Source path: Where the dataset is downloaded\n",
        "src = \"/root/.cache/kagglehub/datasets/rupakroy/urban-sound-8k/versions/1\"\n",
        "\n",
        "# Destination path: Notebook's working directory\n",
        "dst = os.path.join(os.getcwd(), 'urban_sound_data')\n",
        "\n",
        "# Ensure the destination directory exists\n",
        "os.makedirs(dst, exist_ok=True)\n",
        "\n",
        "# Remove the urban_sound_data directory\n",
        "shutil.rmtree(dst)\n",
        "\n",
        "print(f\"Directory '{dst}' and its contents removed successfully.\")"
      ],
      "metadata": {
        "colab": {
          "base_uri": "https://localhost:8080/"
        },
        "id": "qIpEDC1hHPic",
        "outputId": "ab92b4b8-8e1f-42c4-f99a-92e5e4bef998"
      },
      "execution_count": null,
      "outputs": [
        {
          "output_type": "stream",
          "name": "stdout",
          "text": [
            "Directory '/content/urban_sound_data' and its contents removed successfully.\n"
          ]
        }
      ]
    },
    {
      "cell_type": "markdown",
      "metadata": {
        "id": "KmeF83dS02ye"
      },
      "source": [
        "Audio preprossing with low pass filter"
      ]
    },
    {
      "cell_type": "code",
      "execution_count": null,
      "metadata": {
        "id": "HnRmLQ6l0zEd"
      },
      "outputs": [],
      "source": [
        "import librosa\n",
        "import numpy as np\n",
        "from scipy.signal import butter, lfilter\n",
        "\n",
        "# Define the low-pass filter function\n",
        "def butter_lowpass(lowcut, fs, order=5):\n",
        "    nyquist = 0.5 * fs\n",
        "    low = lowcut / nyquist\n",
        "    b, a = butter(order, low, btype='lowpass', analog=False)\n",
        "    return b, a\n",
        "\n",
        "# Function to load and apply the low-pass filter to the audio\n",
        "def load_and_filter_audio(audio_file, fs=22050, lowcut=300.0):\n",
        "    # Load audio file\n",
        "    y, sr = librosa.load(audio_file, sr=fs)\n",
        "\n",
        "    # Apply low-pass filter\n",
        "    b, a = butter_lowpass(lowcut, fs)\n",
        "    filtered_audio = lfilter(b, a, y)\n",
        "\n",
        "    return filtered_audio, sr\n",
        "\n",
        "# Function to normalize the audio length to 20 seconds\n",
        "def normalize_audio_length(y, sr, target_length=20):\n",
        "    target_samples = target_length * sr\n",
        "    if len(y) > target_samples:\n",
        "        # Truncate audio if it's longer than the target length\n",
        "        y = y[:target_samples]\n",
        "    elif len(y) < target_samples:\n",
        "        # Pad audio if it's shorter than the target length\n",
        "        y = np.pad(y, (0, target_samples - len(y)), mode='constant')\n",
        "\n",
        "    return y\n"
      ]
    },
    {
      "cell_type": "markdown",
      "metadata": {
        "id": "VTrsv3iZ30h4"
      },
      "source": [
        "Extacting MFCCS"
      ]
    },
    {
      "cell_type": "code",
      "execution_count": null,
      "metadata": {
        "id": "LabC6bWt3zLu"
      },
      "outputs": [],
      "source": [
        "import librosa\n",
        "import numpy as np\n",
        "from scipy.signal import butter, lfilter\n",
        "\n",
        "def butter_filter(audio_data, filter_type, cutoff_freq, sr, order=5):\n",
        "    \"\"\"Applies a Butterworth filter (low-pass, high-pass, or band-pass) to the audio data.\"\"\"\n",
        "    nyquist = 0.5 * sr\n",
        "    if filter_type == 'low_pass':\n",
        "        b, a = butter(order, cutoff_freq / nyquist, btype='low')\n",
        "    elif filter_type == 'high_pass':\n",
        "        b, a = butter(order, cutoff_freq / nyquist, btype='high')\n",
        "    elif filter_type == 'band_pass':\n",
        "        low, high = cutoff_freq\n",
        "        b, a = butter(order, [low / nyquist, high / nyquist], btype='band')\n",
        "    elif filter_type == 'None':\n",
        "        b, a = [1], [1]\n",
        "    else:\n",
        "        raise ValueError(f\"Invalid filter type: {filter_type}. Use 'low_pass', 'high_pass', or 'band_pass'.\")\n",
        "    return lfilter(b, a, audio_data)\n",
        "\n",
        "def extract_mfcc(audio_data, num_mfcc=13, sr=22050, n_fft=1024, hop_length=512,\n",
        "                 filter_type=None, cutoff_freq=None):\n",
        "    \"\"\"Extract MFCC features from audio data with optional filtering.\"\"\"\n",
        "    # Apply filtering if specified\n",
        "    if filter_type and cutoff_freq:\n",
        "        audio_data = butter_filter(audio_data, filter_type, cutoff_freq, sr)\n",
        "\n",
        "    # Check if audio signal is too short and adjust parameters if necessary\n",
        "    if len(audio_data) < n_fft:\n",
        "        n_fft = len(audio_data)  # Reduce FFT size if audio is too short\n",
        "\n",
        "    # Extract MFCCs with adjusted n_fft and hop_length parameters\n",
        "    mfcc = librosa.feature.mfcc(y=audio_data, sr=sr, n_mfcc=num_mfcc, n_fft=n_fft, hop_length=hop_length)\n",
        "\n",
        "    # Take the mean of the MFCCs across time (columns) for each coefficient\n",
        "    mfcc = np.mean(mfcc, axis=1)\n",
        "\n",
        "    return mfcc\n"
      ]
    },
    {
      "cell_type": "code",
      "execution_count": null,
      "metadata": {
        "id": "xWPRMItH-3xT"
      },
      "outputs": [],
      "source": [
        "\"\"\"\n",
        "import librosa\n",
        "import numpy as np\n",
        "from scipy.signal import butter, filtfilt\n",
        "\n",
        "def butter_bandpass(lowcut, highcut, fs, order=5):\n",
        "    nyquist = 0.5 * fs\n",
        "    low = lowcut / nyquist\n",
        "    high = highcut / nyquist\n",
        "    b, a = butter(order, [low, high], btype='band')\n",
        "    return b, a\n",
        "\n",
        "def butter_lowpass(cutoff, fs, order=5):\n",
        "    \"\"\"Creates a lowpass Butterworth filter.\"\"\"\n",
        "    nyquist = 0.5 * fs\n",
        "    low = cutoff / nyquist\n",
        "    b, a = butter(order, low, btype='low')\n",
        "    return b, a\n",
        "\n",
        "def butter_highpass(cutoff, fs, order=5):\n",
        "    \"\"\"Creates a highpass Butterworth filter.\"\"\"\n",
        "    nyquist = 0.5 * fs\n",
        "    high = cutoff / nyquist\n",
        "    b, a = butter(order, high, btype='high')\n",
        "    return b, a\n",
        "\n",
        "def filter_audio(audio_data, sr, filter_type, cutoff_freq, order=5):\n",
        "    \"\"\"Applies specified filters to the audio data\"\"\"\n",
        "    if filter_type == 'low_pass':\n",
        "        b, a = butter_lowpass(cutoff_freq, sr, order)\n",
        "        filtered_audio = filtfilt(b, a, audio_data)\n",
        "    elif filter_type == 'high_pass':\n",
        "        b, a = butter_highpass(cutoff_freq, sr, order)\n",
        "        filtered_audio = filtfilt(b, a, audio_data)\n",
        "    elif filter_type == 'band_pass':\n",
        "        b, a = butter_bandpass(cutoff_freq[0], cutoff_freq[1], sr, order)\n",
        "        filtered_audio = filtfilt(b, a, audio_data)\n",
        "    else:\n",
        "        return audio_data  # If invalid filter type, return original audio data\n",
        "    return filtered_audio \"\"\"\n"
      ]
    },
    {
      "cell_type": "markdown",
      "metadata": {
        "id": "0R05wnNt1Wqp"
      },
      "source": [
        "Organize dataset for training"
      ]
    },
    {
      "cell_type": "code",
      "execution_count": null,
      "metadata": {
        "colab": {
          "base_uri": "https://localhost:8080/",
          "height": 463
        },
        "id": "gOnvkFgD1YWa",
        "outputId": "edcd70fe-1b5b-423a-a6ba-1cf3d9a307e6",
        "collapsed": true
      },
      "outputs": [
        {
          "output_type": "stream",
          "name": "stderr",
          "text": [
            "Processing Audio Files:   0%|          | 0/9911 [00:03<?, ?file/s]Process ForkPoolWorker-7:\n",
            "\n"
          ]
        },
        {
          "output_type": "error",
          "ename": "KeyboardInterrupt",
          "evalue": "",
          "traceback": [
            "\u001b[0;31m---------------------------------------------------------------------------\u001b[0m",
            "\u001b[0;31mIndexError\u001b[0m                                Traceback (most recent call last)",
            "\u001b[0;32m/usr/lib/python3.10/multiprocessing/pool.py\u001b[0m in \u001b[0;36mnext\u001b[0;34m(self, timeout)\u001b[0m\n\u001b[1;32m    855\u001b[0m             \u001b[0;32mtry\u001b[0m\u001b[0;34m:\u001b[0m\u001b[0;34m\u001b[0m\u001b[0;34m\u001b[0m\u001b[0m\n\u001b[0;32m--> 856\u001b[0;31m                 \u001b[0mitem\u001b[0m \u001b[0;34m=\u001b[0m \u001b[0mself\u001b[0m\u001b[0;34m.\u001b[0m\u001b[0m_items\u001b[0m\u001b[0;34m.\u001b[0m\u001b[0mpopleft\u001b[0m\u001b[0;34m(\u001b[0m\u001b[0;34m)\u001b[0m\u001b[0;34m\u001b[0m\u001b[0;34m\u001b[0m\u001b[0m\n\u001b[0m\u001b[1;32m    857\u001b[0m             \u001b[0;32mexcept\u001b[0m \u001b[0mIndexError\u001b[0m\u001b[0;34m:\u001b[0m\u001b[0;34m\u001b[0m\u001b[0;34m\u001b[0m\u001b[0m\n",
            "\u001b[0;31mIndexError\u001b[0m: pop from an empty deque",
            "\nDuring handling of the above exception, another exception occurred:\n",
            "\u001b[0;31mKeyboardInterrupt\u001b[0m                         Traceback (most recent call last)",
            "\u001b[0;32m<ipython-input-23-41fcc7632422>\u001b[0m in \u001b[0;36m<cell line: 71>\u001b[0;34m()\u001b[0m\n\u001b[1;32m     69\u001b[0m \u001b[0;34m\u001b[0m\u001b[0m\n\u001b[1;32m     70\u001b[0m \u001b[0mdataset_path\u001b[0m \u001b[0;34m=\u001b[0m \u001b[0;34m\"/content/musan_noise_data/musan\"\u001b[0m  \u001b[0;31m# Your dataset path\u001b[0m\u001b[0;34m\u001b[0m\u001b[0;34m\u001b[0m\u001b[0m\n\u001b[0;32m---> 71\u001b[0;31m \u001b[0mX\u001b[0m\u001b[0;34m,\u001b[0m \u001b[0my\u001b[0m \u001b[0;34m=\u001b[0m \u001b[0mprepare_data\u001b[0m\u001b[0;34m(\u001b[0m\u001b[0mdataset_path\u001b[0m\u001b[0;34m)\u001b[0m\u001b[0;34m\u001b[0m\u001b[0;34m\u001b[0m\u001b[0m\n\u001b[0m\u001b[1;32m     72\u001b[0m \u001b[0mprint\u001b[0m\u001b[0;34m(\u001b[0m\u001b[0;34m\"X shape:\"\u001b[0m\u001b[0;34m,\u001b[0m \u001b[0mX\u001b[0m\u001b[0;34m.\u001b[0m\u001b[0mshape\u001b[0m\u001b[0;34m)\u001b[0m\u001b[0;34m\u001b[0m\u001b[0;34m\u001b[0m\u001b[0m\n\u001b[1;32m     73\u001b[0m \u001b[0mprint\u001b[0m\u001b[0;34m(\u001b[0m\u001b[0;34m\"y shape:\"\u001b[0m\u001b[0;34m,\u001b[0m \u001b[0my\u001b[0m\u001b[0;34m.\u001b[0m\u001b[0mshape\u001b[0m\u001b[0;34m)\u001b[0m\u001b[0;34m\u001b[0m\u001b[0;34m\u001b[0m\u001b[0m\n",
            "\u001b[0;32m<ipython-input-23-41fcc7632422>\u001b[0m in \u001b[0;36mprepare_data\u001b[0;34m(dataset_path, num_processes)\u001b[0m\n\u001b[1;32m     52\u001b[0m \u001b[0;34m\u001b[0m\u001b[0m\n\u001b[1;32m     53\u001b[0m     \u001b[0;32mwith\u001b[0m \u001b[0mPool\u001b[0m\u001b[0;34m(\u001b[0m\u001b[0mprocesses\u001b[0m\u001b[0;34m=\u001b[0m\u001b[0mnum_processes\u001b[0m\u001b[0;34m)\u001b[0m \u001b[0;32mas\u001b[0m \u001b[0mpool\u001b[0m\u001b[0;34m:\u001b[0m\u001b[0;34m\u001b[0m\u001b[0;34m\u001b[0m\u001b[0m\n\u001b[0;32m---> 54\u001b[0;31m         results = list(tqdm(pool.imap(process_audio_file, all_files),\n\u001b[0m\u001b[1;32m     55\u001b[0m                              total=len(all_files), desc=\"Processing Audio Files\", unit=\"file\"))\n\u001b[1;32m     56\u001b[0m \u001b[0;34m\u001b[0m\u001b[0m\n",
            "\u001b[0;32m/usr/local/lib/python3.10/dist-packages/tqdm/std.py\u001b[0m in \u001b[0;36m__iter__\u001b[0;34m(self)\u001b[0m\n\u001b[1;32m   1179\u001b[0m \u001b[0;34m\u001b[0m\u001b[0m\n\u001b[1;32m   1180\u001b[0m         \u001b[0;32mtry\u001b[0m\u001b[0;34m:\u001b[0m\u001b[0;34m\u001b[0m\u001b[0;34m\u001b[0m\u001b[0m\n\u001b[0;32m-> 1181\u001b[0;31m             \u001b[0;32mfor\u001b[0m \u001b[0mobj\u001b[0m \u001b[0;32min\u001b[0m \u001b[0miterable\u001b[0m\u001b[0;34m:\u001b[0m\u001b[0;34m\u001b[0m\u001b[0;34m\u001b[0m\u001b[0m\n\u001b[0m\u001b[1;32m   1182\u001b[0m                 \u001b[0;32myield\u001b[0m \u001b[0mobj\u001b[0m\u001b[0;34m\u001b[0m\u001b[0;34m\u001b[0m\u001b[0m\n\u001b[1;32m   1183\u001b[0m                 \u001b[0;31m# Update and possibly print the progressbar.\u001b[0m\u001b[0;34m\u001b[0m\u001b[0;34m\u001b[0m\u001b[0m\n",
            "\u001b[0;32m/usr/lib/python3.10/multiprocessing/pool.py\u001b[0m in \u001b[0;36mnext\u001b[0;34m(self, timeout)\u001b[0m\n\u001b[1;32m    859\u001b[0m                     \u001b[0mself\u001b[0m\u001b[0;34m.\u001b[0m\u001b[0m_pool\u001b[0m \u001b[0;34m=\u001b[0m \u001b[0;32mNone\u001b[0m\u001b[0;34m\u001b[0m\u001b[0;34m\u001b[0m\u001b[0m\n\u001b[1;32m    860\u001b[0m                     \u001b[0;32mraise\u001b[0m \u001b[0mStopIteration\u001b[0m \u001b[0;32mfrom\u001b[0m \u001b[0;32mNone\u001b[0m\u001b[0;34m\u001b[0m\u001b[0;34m\u001b[0m\u001b[0m\n\u001b[0;32m--> 861\u001b[0;31m                 \u001b[0mself\u001b[0m\u001b[0;34m.\u001b[0m\u001b[0m_cond\u001b[0m\u001b[0;34m.\u001b[0m\u001b[0mwait\u001b[0m\u001b[0;34m(\u001b[0m\u001b[0mtimeout\u001b[0m\u001b[0;34m)\u001b[0m\u001b[0;34m\u001b[0m\u001b[0;34m\u001b[0m\u001b[0m\n\u001b[0m\u001b[1;32m    862\u001b[0m                 \u001b[0;32mtry\u001b[0m\u001b[0;34m:\u001b[0m\u001b[0;34m\u001b[0m\u001b[0;34m\u001b[0m\u001b[0m\n\u001b[1;32m    863\u001b[0m                     \u001b[0mitem\u001b[0m \u001b[0;34m=\u001b[0m \u001b[0mself\u001b[0m\u001b[0;34m.\u001b[0m\u001b[0m_items\u001b[0m\u001b[0;34m.\u001b[0m\u001b[0mpopleft\u001b[0m\u001b[0;34m(\u001b[0m\u001b[0;34m)\u001b[0m\u001b[0;34m\u001b[0m\u001b[0;34m\u001b[0m\u001b[0m\n",
            "\u001b[0;32m/usr/lib/python3.10/threading.py\u001b[0m in \u001b[0;36mwait\u001b[0;34m(self, timeout)\u001b[0m\n\u001b[1;32m    318\u001b[0m         \u001b[0;32mtry\u001b[0m\u001b[0;34m:\u001b[0m    \u001b[0;31m# restore state no matter what (e.g., KeyboardInterrupt)\u001b[0m\u001b[0;34m\u001b[0m\u001b[0;34m\u001b[0m\u001b[0m\n\u001b[1;32m    319\u001b[0m             \u001b[0;32mif\u001b[0m \u001b[0mtimeout\u001b[0m \u001b[0;32mis\u001b[0m \u001b[0;32mNone\u001b[0m\u001b[0;34m:\u001b[0m\u001b[0;34m\u001b[0m\u001b[0;34m\u001b[0m\u001b[0m\n\u001b[0;32m--> 320\u001b[0;31m                 \u001b[0mwaiter\u001b[0m\u001b[0;34m.\u001b[0m\u001b[0macquire\u001b[0m\u001b[0;34m(\u001b[0m\u001b[0;34m)\u001b[0m\u001b[0;34m\u001b[0m\u001b[0;34m\u001b[0m\u001b[0m\n\u001b[0m\u001b[1;32m    321\u001b[0m                 \u001b[0mgotit\u001b[0m \u001b[0;34m=\u001b[0m \u001b[0;32mTrue\u001b[0m\u001b[0;34m\u001b[0m\u001b[0;34m\u001b[0m\u001b[0m\n\u001b[1;32m    322\u001b[0m             \u001b[0;32melse\u001b[0m\u001b[0;34m:\u001b[0m\u001b[0;34m\u001b[0m\u001b[0;34m\u001b[0m\u001b[0m\n",
            "\u001b[0;31mKeyboardInterrupt\u001b[0m: "
          ]
        }
      ],
      "source": [
        "import os\n",
        "import numpy as np\n",
        "import librosa\n",
        "from tqdm import tqdm\n",
        "from multiprocessing import Pool, cpu_count\n",
        "\n",
        "# Function to segment audio into smaller chunks\n",
        "def segment_audio(audio_file, segment_length=5, overlap=0.1, sr=22050):\n",
        "    \"\"\"Segment audio file into smaller chunks.\"\"\"\n",
        "    try:\n",
        "        duration = librosa.get_duration(path=audio_file)\n",
        "        if duration <= segment_length:\n",
        "            y, sr = librosa.load(audio_file, sr=sr)\n",
        "            return [y]  # Return the entire file as a single segment\n",
        "\n",
        "        y, sr = librosa.load(audio_file, sr=sr)\n",
        "        segment_samples = int(segment_length * sr)\n",
        "        step_size = int(segment_samples * (1 - overlap))\n",
        "        return [y[start:start + segment_samples] for start in range(0, len(y) - segment_samples, step_size)]\n",
        "    except Exception as e:\n",
        "        print(f\"Error segmenting file {audio_file}: {e}\")\n",
        "        return []\n",
        "\n",
        "def process_audio_file(args):\n",
        "    \"\"\"Helper function to process a single audio file.\"\"\"\n",
        "    audio_file, label = args\n",
        "    features, labels = [], []\n",
        "    label_map = {'music': 0, 'speech': 1, 'noise': 2}\n",
        "\n",
        "    try:\n",
        "        segments = segment_audio(audio_file, segment_length=3, overlap=0.5)\n",
        "        for segment in segments:\n",
        "            if label in label_map:\n",
        "                mfcc = extract_mfcc(segment, filter_type='None', cutoff_freq=[300, 3400] if label in ['music', 'speech'] else 300)\n",
        "                features.append(mfcc)\n",
        "                labels.append(label_map[label])\n",
        "            else:\n",
        "                print(f\"Unknown label {label} for file {audio_file}\")\n",
        "    except Exception as e:\n",
        "        print(f\"Error processing file {audio_file}: {e}\")\n",
        "    return features, labels\n",
        "\n",
        "def prepare_data(dataset_path, num_processes=cpu_count()):\n",
        "    \"\"\"Prepare dataset with multiprocessing.\"\"\"\n",
        "    all_files = [\n",
        "        (os.path.join(dataset_path, label, file), label)\n",
        "        for label in os.listdir(dataset_path)\n",
        "        if os.path.isdir(os.path.join(dataset_path, label))\n",
        "        for file in os.listdir(os.path.join(dataset_path, label))\n",
        "        if file.endswith('.wav')\n",
        "    ]\n",
        "\n",
        "    with Pool(processes=num_processes) as pool:\n",
        "        results = list(tqdm(pool.imap(process_audio_file, all_files),\n",
        "                             total=len(all_files), desc=\"Processing Audio Files\", unit=\"file\"))\n",
        "\n",
        "    features = [feature for result in results for feature in result[0]]\n",
        "    labels = [label for result in results for label in result[1]]\n",
        "\n",
        "    X = np.array(features, dtype=object)  # Handle variable-length features\n",
        "    y = np.array(labels)\n",
        "\n",
        "    np.save('X_features.npy', X)\n",
        "    np.save('y_labels.npy', y)\n",
        "\n",
        "    print(\"Data preparation complete and saved!\")\n",
        "    return X, y\n",
        "\n",
        "\n",
        "dataset_path = \"/content/musan_noise_data/musan\"  # Your dataset path\n",
        "X, y = prepare_data(dataset_path)\n",
        "print(\"X shape:\", X.shape)\n",
        "print(\"y shape:\", y.shape)\n",
        "print(\"Complete!\")\n"
      ]
    },
    {
      "cell_type": "code",
      "source": [
        "# Save the features to Google Drive\n",
        "import numpy as np\n",
        "from google.colab import drive\n",
        "\n",
        "# Mount Google Drive\n",
        "drive.mount('/content/drive')\n",
        "\n",
        "# Load features\n",
        "x = np.load('/content/X_features.npy', allow_pickle=True)  # Allow pickle for object arrays\n",
        "y = np.load('/content/y_labels.npy', allow_pickle=True)\n",
        "\n",
        "print(x.shape)\n",
        "print(y.shape)\n",
        "\n",
        "\n",
        "print(\"Complete!\")"
      ],
      "metadata": {
        "colab": {
          "base_uri": "https://localhost:8080/"
        },
        "id": "BtWHooPDu1rA",
        "outputId": "c5907dcf-61ae-4632-de72-b576b2a1008d"
      },
      "execution_count": null,
      "outputs": [
        {
          "output_type": "stream",
          "name": "stdout",
          "text": [
            "Mounted at /content/drive\n",
            "(267372, 13)\n",
            "(267372,)\n",
            "Complete!\n"
          ]
        }
      ]
    },
    {
      "cell_type": "code",
      "source": [
        "#load features from drive\n",
        "import numpy as np\n",
        "from google.colab import drive\n",
        "drive.mount('/content/drive')\n",
        "x=np.load('/content/drive/MyDrive/X_features.npy')\n",
        "y=np.load('/content/drive/MyDrive/y_labels.npy')\n",
        "print(x.shape)\n",
        "print(y.shape)\n",
        "print(\"Complete!\")"
      ],
      "metadata": {
        "colab": {
          "base_uri": "https://localhost:8080/"
        },
        "id": "VExlgFgWwz2w",
        "outputId": "b5452e90-95ec-472f-864c-28d440b412c3"
      },
      "execution_count": null,
      "outputs": [
        {
          "output_type": "stream",
          "name": "stdout",
          "text": [
            "Drive already mounted at /content/drive; to attempt to forcibly remount, call drive.mount(\"/content/drive\", force_remount=True).\n",
            "(259322, 13)\n",
            "(259322,)\n",
            "Complete!\n"
          ]
        }
      ]
    },
    {
      "cell_type": "code",
      "source": [
        "# Libraries\n",
        "import numpy as np\n",
        "from sklearn.model_selection import train_test_split\n",
        "from sklearn.preprocessing import StandardScaler # Fixed: Added space after preprocessing\n",
        "from tensorflow.keras.models import Sequential\n",
        "from tensorflow.keras.layers import Dense, Dropout, LSTM, Bidirectional\n",
        "from tensorflow.keras.callbacks import EarlyStopping"
      ],
      "metadata": {
        "id": "zoXQqdlgjEEd"
      },
      "execution_count": 68,
      "outputs": []
    },
    {
      "cell_type": "code",
      "source": [
        "#Load Data\n",
        "# 2. Load Data\n",
        "X = np.load('X_features.npy', allow_pickle=True)\n",
        "y = np.load('y_labels.npy', allow_pickle=True)\n",
        "\n",
        "print(X.shape)\n",
        "print(y.shape)\n",
        "\n",
        "print(\"Data Loaded succesfully\");"
      ],
      "metadata": {
        "colab": {
          "base_uri": "https://localhost:8080/"
        },
        "id": "1sl7htGR4-s9",
        "outputId": "124211a7-375d-414c-9649-423f747b2d7c"
      },
      "execution_count": 69,
      "outputs": [
        {
          "output_type": "stream",
          "name": "stdout",
          "text": [
            "(267372, 13)\n",
            "(267372,)\n",
            "Data Loaded succesfully\n"
          ]
        }
      ]
    },
    {
      "cell_type": "code",
      "source": [
        "# 3. Split Data\n",
        "X_train, X_test, y_train, y_test = train_test_split(X, y, test_size=0.2, random_state=42)\n",
        "\n",
        "print(\"Data Splitted succesfully\")"
      ],
      "metadata": {
        "colab": {
          "base_uri": "https://localhost:8080/"
        },
        "id": "AezjuKnC5XbJ",
        "outputId": "6b4e1c58-5c6e-4dd3-cd48-cad7ea5ce650"
      },
      "execution_count": 70,
      "outputs": [
        {
          "output_type": "stream",
          "name": "stdout",
          "text": [
            "Data Splitted succesfully\n"
          ]
        }
      ]
    },
    {
      "cell_type": "code",
      "source": [
        "# 4. Pad Sequences\n",
        "max_length = max(len(x) for x in X_train)\n",
        "X_train = np.array([np.pad(x, (0, max_length - len(x)), 'constant') for x in X_train])\n",
        "X_test = np.array([np.pad(x, (0, max_length - len(x)), 'constant') for x in X_test])\n",
        "\n",
        "print(\"Sequences Padded succesfully\")"
      ],
      "metadata": {
        "colab": {
          "base_uri": "https://localhost:8080/"
        },
        "id": "cuC0k-f-5XiH",
        "outputId": "2e5ffc08-4b83-4f24-d37a-e961bcdb117e"
      },
      "execution_count": 71,
      "outputs": [
        {
          "output_type": "stream",
          "name": "stdout",
          "text": [
            "Sequences Padded succesfully\n"
          ]
        }
      ]
    },
    {
      "cell_type": "code",
      "source": [
        "# 5. Reshape for LSTM\n",
        "X_train = X_train.reshape(X_train.shape[0], X_train.shape[1], 1)\n",
        "X_test = X_test.reshape(X_test.shape[0], X_test.shape[1], 1)\n",
        "\n",
        "print(\"Data Reshaped succesfully\")"
      ],
      "metadata": {
        "colab": {
          "base_uri": "https://localhost:8080/"
        },
        "id": "hHInlWb85lPZ",
        "outputId": "54f7e17a-049f-4bfc-f9f6-282bbcff30d7"
      },
      "execution_count": 72,
      "outputs": [
        {
          "output_type": "stream",
          "name": "stdout",
          "text": [
            "Data Reshaped succesfully\n"
          ]
        }
      ]
    },
    {
      "cell_type": "code",
      "source": [
        "# 6. Scale Features\n",
        "scaler = StandardScaler()\n",
        "X_train = scaler.fit_transform(X_train.reshape(-1, X_train.shape[-1])).reshape(X_train.shape)\n",
        "X_test = scaler.transform(X_test.reshape(-1, X_test.shape[-1])).reshape(X_test.shape)\n",
        "\n",
        "print(\"Features Scaled succesfully\")"
      ],
      "metadata": {
        "colab": {
          "base_uri": "https://localhost:8080/"
        },
        "id": "M4P_VBm45sR7",
        "outputId": "35563fb3-c551-4b92-dc99-d5373788e273"
      },
      "execution_count": 73,
      "outputs": [
        {
          "output_type": "stream",
          "name": "stdout",
          "text": [
            "Features Scaled succesfully\n"
          ]
        }
      ]
    },
    {
      "cell_type": "code",
      "source": [
        "# 7. Build LSTM Model\n",
        "model = Sequential()\n",
        "model.add(Bidirectional(LSTM(128, return_sequences=True), input_shape=(X_train.shape[1], X_train.shape[2])))\n",
        "model.add(Dropout(0.2))\n",
        "model.add(Bidirectional(LSTM(64)))\n",
        "model.add(Dropout(0.2))\n",
        "model.add(Dense(3, activation='softmax'))\n",
        "\n",
        "print(\"Model Built succesfully\")"
      ],
      "metadata": {
        "colab": {
          "base_uri": "https://localhost:8080/"
        },
        "id": "uqqGOdnCecgp",
        "outputId": "852e4764-5553-4ab7-ddf7-8e68d6cbf1c2"
      },
      "execution_count": 74,
      "outputs": [
        {
          "output_type": "stream",
          "name": "stderr",
          "text": [
            "/usr/local/lib/python3.10/dist-packages/keras/src/layers/rnn/bidirectional.py:107: UserWarning: Do not pass an `input_shape`/`input_dim` argument to a layer. When using Sequential models, prefer using an `Input(shape)` object as the first layer in the model instead.\n",
            "  super().__init__(**kwargs)\n"
          ]
        },
        {
          "output_type": "stream",
          "name": "stdout",
          "text": [
            "Model Built succesfully\n"
          ]
        }
      ]
    },
    {
      "cell_type": "code",
      "source": [
        "# 8. Compile Model\n",
        "model.compile(loss='sparse_categorical_crossentropy', optimizer='adam', metrics=['accuracy'])\n",
        "\n",
        "print(\"Model Compiled succesfully\")"
      ],
      "metadata": {
        "colab": {
          "base_uri": "https://localhost:8080/"
        },
        "id": "lSW5wznQ59in",
        "outputId": "3ec52dc1-a310-4380-d9fc-07cbc4de7faf"
      },
      "execution_count": 75,
      "outputs": [
        {
          "output_type": "stream",
          "name": "stdout",
          "text": [
            "Model Compiled succesfully\n"
          ]
        }
      ]
    },
    {
      "cell_type": "code",
      "source": [
        "model.summary()"
      ],
      "metadata": {
        "colab": {
          "base_uri": "https://localhost:8080/",
          "height": 306
        },
        "id": "n2rM3eSN6ACe",
        "outputId": "cf94c956-af8d-4b4c-f285-ec729477b65e"
      },
      "execution_count": 76,
      "outputs": [
        {
          "output_type": "display_data",
          "data": {
            "text/plain": [
              "\u001b[1mModel: \"sequential_13\"\u001b[0m\n"
            ],
            "text/html": [
              "<pre style=\"white-space:pre;overflow-x:auto;line-height:normal;font-family:Menlo,'DejaVu Sans Mono',consolas,'Courier New',monospace\"><span style=\"font-weight: bold\">Model: \"sequential_13\"</span>\n",
              "</pre>\n"
            ]
          },
          "metadata": {}
        },
        {
          "output_type": "display_data",
          "data": {
            "text/plain": [
              "┏━━━━━━━━━━━━━━━━━━━━━━━━━━━━━━━━━━━━━━┳━━━━━━━━━━━━━━━━━━━━━━━━━━━━━┳━━━━━━━━━━━━━━━━━┓\n",
              "┃\u001b[1m \u001b[0m\u001b[1mLayer (type)                        \u001b[0m\u001b[1m \u001b[0m┃\u001b[1m \u001b[0m\u001b[1mOutput Shape               \u001b[0m\u001b[1m \u001b[0m┃\u001b[1m \u001b[0m\u001b[1m        Param #\u001b[0m\u001b[1m \u001b[0m┃\n",
              "┡━━━━━━━━━━━━━━━━━━━━━━━━━━━━━━━━━━━━━━╇━━━━━━━━━━━━━━━━━━━━━━━━━━━━━╇━━━━━━━━━━━━━━━━━┩\n",
              "│ bidirectional (\u001b[38;5;33mBidirectional\u001b[0m)        │ (\u001b[38;5;45mNone\u001b[0m, \u001b[38;5;34m13\u001b[0m, \u001b[38;5;34m256\u001b[0m)             │         \u001b[38;5;34m133,120\u001b[0m │\n",
              "├──────────────────────────────────────┼─────────────────────────────┼─────────────────┤\n",
              "│ dropout_13 (\u001b[38;5;33mDropout\u001b[0m)                 │ (\u001b[38;5;45mNone\u001b[0m, \u001b[38;5;34m13\u001b[0m, \u001b[38;5;34m256\u001b[0m)             │               \u001b[38;5;34m0\u001b[0m │\n",
              "├──────────────────────────────────────┼─────────────────────────────┼─────────────────┤\n",
              "│ bidirectional_1 (\u001b[38;5;33mBidirectional\u001b[0m)      │ (\u001b[38;5;45mNone\u001b[0m, \u001b[38;5;34m128\u001b[0m)                 │         \u001b[38;5;34m164,352\u001b[0m │\n",
              "├──────────────────────────────────────┼─────────────────────────────┼─────────────────┤\n",
              "│ dropout_14 (\u001b[38;5;33mDropout\u001b[0m)                 │ (\u001b[38;5;45mNone\u001b[0m, \u001b[38;5;34m128\u001b[0m)                 │               \u001b[38;5;34m0\u001b[0m │\n",
              "├──────────────────────────────────────┼─────────────────────────────┼─────────────────┤\n",
              "│ dense_20 (\u001b[38;5;33mDense\u001b[0m)                     │ (\u001b[38;5;45mNone\u001b[0m, \u001b[38;5;34m3\u001b[0m)                   │             \u001b[38;5;34m387\u001b[0m │\n",
              "└──────────────────────────────────────┴─────────────────────────────┴─────────────────┘\n"
            ],
            "text/html": [
              "<pre style=\"white-space:pre;overflow-x:auto;line-height:normal;font-family:Menlo,'DejaVu Sans Mono',consolas,'Courier New',monospace\">┏━━━━━━━━━━━━━━━━━━━━━━━━━━━━━━━━━━━━━━┳━━━━━━━━━━━━━━━━━━━━━━━━━━━━━┳━━━━━━━━━━━━━━━━━┓\n",
              "┃<span style=\"font-weight: bold\"> Layer (type)                         </span>┃<span style=\"font-weight: bold\"> Output Shape                </span>┃<span style=\"font-weight: bold\">         Param # </span>┃\n",
              "┡━━━━━━━━━━━━━━━━━━━━━━━━━━━━━━━━━━━━━━╇━━━━━━━━━━━━━━━━━━━━━━━━━━━━━╇━━━━━━━━━━━━━━━━━┩\n",
              "│ bidirectional (<span style=\"color: #0087ff; text-decoration-color: #0087ff\">Bidirectional</span>)        │ (<span style=\"color: #00d7ff; text-decoration-color: #00d7ff\">None</span>, <span style=\"color: #00af00; text-decoration-color: #00af00\">13</span>, <span style=\"color: #00af00; text-decoration-color: #00af00\">256</span>)             │         <span style=\"color: #00af00; text-decoration-color: #00af00\">133,120</span> │\n",
              "├──────────────────────────────────────┼─────────────────────────────┼─────────────────┤\n",
              "│ dropout_13 (<span style=\"color: #0087ff; text-decoration-color: #0087ff\">Dropout</span>)                 │ (<span style=\"color: #00d7ff; text-decoration-color: #00d7ff\">None</span>, <span style=\"color: #00af00; text-decoration-color: #00af00\">13</span>, <span style=\"color: #00af00; text-decoration-color: #00af00\">256</span>)             │               <span style=\"color: #00af00; text-decoration-color: #00af00\">0</span> │\n",
              "├──────────────────────────────────────┼─────────────────────────────┼─────────────────┤\n",
              "│ bidirectional_1 (<span style=\"color: #0087ff; text-decoration-color: #0087ff\">Bidirectional</span>)      │ (<span style=\"color: #00d7ff; text-decoration-color: #00d7ff\">None</span>, <span style=\"color: #00af00; text-decoration-color: #00af00\">128</span>)                 │         <span style=\"color: #00af00; text-decoration-color: #00af00\">164,352</span> │\n",
              "├──────────────────────────────────────┼─────────────────────────────┼─────────────────┤\n",
              "│ dropout_14 (<span style=\"color: #0087ff; text-decoration-color: #0087ff\">Dropout</span>)                 │ (<span style=\"color: #00d7ff; text-decoration-color: #00d7ff\">None</span>, <span style=\"color: #00af00; text-decoration-color: #00af00\">128</span>)                 │               <span style=\"color: #00af00; text-decoration-color: #00af00\">0</span> │\n",
              "├──────────────────────────────────────┼─────────────────────────────┼─────────────────┤\n",
              "│ dense_20 (<span style=\"color: #0087ff; text-decoration-color: #0087ff\">Dense</span>)                     │ (<span style=\"color: #00d7ff; text-decoration-color: #00d7ff\">None</span>, <span style=\"color: #00af00; text-decoration-color: #00af00\">3</span>)                   │             <span style=\"color: #00af00; text-decoration-color: #00af00\">387</span> │\n",
              "└──────────────────────────────────────┴─────────────────────────────┴─────────────────┘\n",
              "</pre>\n"
            ]
          },
          "metadata": {}
        },
        {
          "output_type": "display_data",
          "data": {
            "text/plain": [
              "\u001b[1m Total params: \u001b[0m\u001b[38;5;34m297,859\u001b[0m (1.14 MB)\n"
            ],
            "text/html": [
              "<pre style=\"white-space:pre;overflow-x:auto;line-height:normal;font-family:Menlo,'DejaVu Sans Mono',consolas,'Courier New',monospace\"><span style=\"font-weight: bold\"> Total params: </span><span style=\"color: #00af00; text-decoration-color: #00af00\">297,859</span> (1.14 MB)\n",
              "</pre>\n"
            ]
          },
          "metadata": {}
        },
        {
          "output_type": "display_data",
          "data": {
            "text/plain": [
              "\u001b[1m Trainable params: \u001b[0m\u001b[38;5;34m297,859\u001b[0m (1.14 MB)\n"
            ],
            "text/html": [
              "<pre style=\"white-space:pre;overflow-x:auto;line-height:normal;font-family:Menlo,'DejaVu Sans Mono',consolas,'Courier New',monospace\"><span style=\"font-weight: bold\"> Trainable params: </span><span style=\"color: #00af00; text-decoration-color: #00af00\">297,859</span> (1.14 MB)\n",
              "</pre>\n"
            ]
          },
          "metadata": {}
        },
        {
          "output_type": "display_data",
          "data": {
            "text/plain": [
              "\u001b[1m Non-trainable params: \u001b[0m\u001b[38;5;34m0\u001b[0m (0.00 B)\n"
            ],
            "text/html": [
              "<pre style=\"white-space:pre;overflow-x:auto;line-height:normal;font-family:Menlo,'DejaVu Sans Mono',consolas,'Courier New',monospace\"><span style=\"font-weight: bold\"> Non-trainable params: </span><span style=\"color: #00af00; text-decoration-color: #00af00\">0</span> (0.00 B)\n",
              "</pre>\n"
            ]
          },
          "metadata": {}
        }
      ]
    },
    {
      "cell_type": "code",
      "source": [
        "# 9. Early Stopping\n",
        "early_stopping = EarlyStopping(monitor='val_loss', patience=5, restore_best_weights=True)\n",
        "\n",
        "print(\"Early Stopping defined succesfully\")"
      ],
      "metadata": {
        "colab": {
          "base_uri": "https://localhost:8080/"
        },
        "id": "n1j1nwHz6ERT",
        "outputId": "ef09b935-6b92-432a-8be5-1d9637fd61a2"
      },
      "execution_count": 77,
      "outputs": [
        {
          "output_type": "stream",
          "name": "stdout",
          "text": [
            "Early Stopping defined succesfully\n"
          ]
        }
      ]
    },
    {
      "cell_type": "code",
      "source": [
        "# 10. Train Model\n",
        "history = model.fit(X_train, y_train, epochs=10, batch_size=32, validation_split=0.2, callbacks=[early_stopping])\n"
      ],
      "metadata": {
        "colab": {
          "base_uri": "https://localhost:8080/"
        },
        "id": "0FX5kOFD6Mqk",
        "outputId": "d865eec9-c901-41f2-8cde-45b9271f3a76"
      },
      "execution_count": 79,
      "outputs": [
        {
          "output_type": "stream",
          "name": "stdout",
          "text": [
            "Epoch 1/10\n",
            "\u001b[1m5348/5348\u001b[0m \u001b[32m━━━━━━━━━━━━━━━━━━━━\u001b[0m\u001b[37m\u001b[0m \u001b[1m492s\u001b[0m 92ms/step - accuracy: 0.9276 - loss: 0.2033 - val_accuracy: 0.9428 - val_loss: 0.1656\n",
            "Epoch 2/10\n",
            "\u001b[1m5348/5348\u001b[0m \u001b[32m━━━━━━━━━━━━━━━━━━━━\u001b[0m\u001b[37m\u001b[0m \u001b[1m434s\u001b[0m 79ms/step - accuracy: 0.9480 - loss: 0.1491 - val_accuracy: 0.9475 - val_loss: 0.1486\n",
            "Epoch 3/10\n",
            "\u001b[1m5348/5348\u001b[0m \u001b[32m━━━━━━━━━━━━━━━━━━━━\u001b[0m\u001b[37m\u001b[0m \u001b[1m436s\u001b[0m 78ms/step - accuracy: 0.9564 - loss: 0.1280 - val_accuracy: 0.9614 - val_loss: 0.1123\n",
            "Epoch 4/10\n",
            "\u001b[1m5348/5348\u001b[0m \u001b[32m━━━━━━━━━━━━━━━━━━━━\u001b[0m\u001b[37m\u001b[0m \u001b[1m418s\u001b[0m 78ms/step - accuracy: 0.9600 - loss: 0.1140 - val_accuracy: 0.9652 - val_loss: 0.1007\n",
            "Epoch 5/10\n",
            "\u001b[1m5348/5348\u001b[0m \u001b[32m━━━━━━━━━━━━━━━━━━━━\u001b[0m\u001b[37m\u001b[0m \u001b[1m466s\u001b[0m 83ms/step - accuracy: 0.9652 - loss: 0.1009 - val_accuracy: 0.9654 - val_loss: 0.1012\n",
            "Epoch 6/10\n",
            "\u001b[1m5348/5348\u001b[0m \u001b[32m━━━━━━━━━━━━━━━━━━━━\u001b[0m\u001b[37m\u001b[0m \u001b[1m445s\u001b[0m 83ms/step - accuracy: 0.9671 - loss: 0.0947 - val_accuracy: 0.9703 - val_loss: 0.0867\n",
            "Epoch 7/10\n",
            "\u001b[1m5348/5348\u001b[0m \u001b[32m━━━━━━━━━━━━━━━━━━━━\u001b[0m\u001b[37m\u001b[0m \u001b[1m460s\u001b[0m 86ms/step - accuracy: 0.9695 - loss: 0.0876 - val_accuracy: 0.9691 - val_loss: 0.0896\n",
            "Epoch 8/10\n",
            "\u001b[1m5348/5348\u001b[0m \u001b[32m━━━━━━━━━━━━━━━━━━━━\u001b[0m\u001b[37m\u001b[0m \u001b[1m504s\u001b[0m 86ms/step - accuracy: 0.9719 - loss: 0.0803 - val_accuracy: 0.9713 - val_loss: 0.0834\n",
            "Epoch 9/10\n",
            "\u001b[1m5348/5348\u001b[0m \u001b[32m━━━━━━━━━━━━━━━━━━━━\u001b[0m\u001b[37m\u001b[0m \u001b[1m458s\u001b[0m 86ms/step - accuracy: 0.9740 - loss: 0.0750 - val_accuracy: 0.9746 - val_loss: 0.0744\n",
            "Epoch 10/10\n",
            "\u001b[1m5348/5348\u001b[0m \u001b[32m━━━━━━━━━━━━━━━━━━━━\u001b[0m\u001b[37m\u001b[0m \u001b[1m497s\u001b[0m 85ms/step - accuracy: 0.9758 - loss: 0.0695 - val_accuracy: 0.9746 - val_loss: 0.0751\n"
          ]
        }
      ]
    },
    {
      "cell_type": "code",
      "source": [
        "#display the test and val accuracy along with graph\n",
        "import matplotlib.pyplot as plt\n",
        "\n",
        "# Evaluate the model on the test set\n",
        "_, test_accuracy = model.evaluate(X_test, y_test, verbose=0)\n",
        "\n",
        "# Print the test accuracy\n",
        "print('Test Accuracy:', test_accuracy)\n",
        "\n",
        "# Get training and validation accuracy from the history object\n",
        "train_accuracy = history.history['accuracy']\n",
        "val_accuracy = history.history['val_accuracy']\n",
        "\n",
        "# Plot the accuracy curves\n",
        "epochs = range(1, len(train_accuracy) + 1)\n",
        "plt.plot(epochs, train_accuracy, label='Training Accuracy')\n",
        "plt.plot(epochs, val_accuracy, label='Validation Accuracy')\n",
        "plt.title('Training and Validation Accuracy')\n",
        "plt.xlabel('Epochs')\n",
        "plt.ylabel('Accuracy')\n",
        "plt.legend()\n",
        "plt.show()"
      ],
      "metadata": {
        "colab": {
          "base_uri": "https://localhost:8080/",
          "height": 489
        },
        "id": "8jyIWGynK0Nm",
        "outputId": "2080da17-beb2-4bf3-9055-e0f36ad5aedf"
      },
      "execution_count": 81,
      "outputs": [
        {
          "output_type": "stream",
          "name": "stdout",
          "text": [
            "Test Accuracy: 0.9736886620521545\n"
          ]
        },
        {
          "output_type": "display_data",
          "data": {
            "text/plain": [
              "<Figure size 640x480 with 1 Axes>"
            ],
            "image/png": "[encoded data removed]"
          },
          "metadata": {}
        }
      ]
    },
    {
      "cell_type": "code",
      "source": [
        "#confusion matrix\n",
        "from sklearn.metrics import confusion_matrix\n",
        "import seaborn as sns\n",
        "import matplotlib.pyplot as plt\n",
        "\n",
        "# Get predictions on the test set\n",
        "y_pred = model.predict(X_test)\n",
        "y_pred_classes = np.argmax(y_pred, axis=1)  # Convert predictions to class labels\n",
        "\n",
        "# Calculate the confusion matrix\n",
        "cm = confusion_matrix(y_test, y_pred_classes)\n",
        "\n",
        "# Plot the confusion matrix as a heatmap\n",
        "plt.figure(figsize=(8, 6))\n",
        "sns.heatmap(cm, annot=True, fmt='d', cmap='Blues',\n",
        "            xticklabels=['music', 'speech', 'noise'],\n",
        "            yticklabels=['music', 'speech', 'noise'])\n",
        "plt.title('Confusion Matrix')\n",
        "plt.xlabel('Predicted Label')\n",
        "plt.ylabel('True Label')\n",
        "plt.show()"
      ],
      "metadata": {
        "colab": {
          "base_uri": "https://localhost:8080/",
          "height": 550
        },
        "id": "TbDTfhydK_pN",
        "outputId": "e5354e29-a962-4a48-8f2f-c78e975f3147"
      },
      "execution_count": 82,
      "outputs": [
        {
          "output_type": "stream",
          "name": "stdout",
          "text": [
            "\u001b[1m1672/1672\u001b[0m \u001b[32m━━━━━━━━━━━━━━━━━━━━\u001b[0m\u001b[37m\u001b[0m \u001b[1m55s\u001b[0m 32ms/step\n"
          ]
        },
        {
          "output_type": "display_data",
          "data": {
            "text/plain": [
              "<Figure size 800x600 with 2 Axes>"
            ],
            "image/png": "[encoded data removed]"
          },
          "metadata": {}
        }
      ]
    },
    {
      "cell_type": "code",
      "source": [
        "#print the classification report\n",
        "from sklearn.metrics import classification_report\n",
        "\n",
        "# Print classification report\n",
        "print(classification_report(y_test, y_pred_classes, target_names=['Music', 'Speech', 'Noise']))"
      ],
      "metadata": {
        "colab": {
          "base_uri": "https://localhost:8080/"
        },
        "id": "tRrMjpBhOFLg",
        "outputId": "5c4ededb-a407-49c3-e55a-2b83942c7aa0"
      },
      "execution_count": 84,
      "outputs": [
        {
          "output_type": "stream",
          "name": "stdout",
          "text": [
            "              precision    recall  f1-score   support\n",
            "\n",
            "       Music       0.97      0.97      0.97     20129\n",
            "      Speech       0.98      0.99      0.99     28973\n",
            "       Noise       0.91      0.85      0.88      4373\n",
            "\n",
            "    accuracy                           0.97     53475\n",
            "   macro avg       0.95      0.94      0.95     53475\n",
            "weighted avg       0.97      0.97      0.97     53475\n",
            "\n"
          ]
        }
      ]
    },
    {
      "cell_type": "markdown",
      "metadata": {
        "id": "wG_SBmIxehz1"
      },
      "source": [
        "Splitting Data and Training the Model"
      ]
    },
    {
      "cell_type": "code",
      "execution_count": 85,
      "metadata": {
        "colab": {
          "base_uri": "https://localhost:8080/",
          "height": 17
        },
        "id": "nGXxebwk-o63",
        "outputId": "800120db-7bd2-4000-aac9-b40134d73070"
      },
      "outputs": [
        {
          "output_type": "display_data",
          "data": {
            "text/plain": [
              "<IPython.core.display.Javascript object>"
            ],
            "application/javascript": [
              "\n",
              "    async function download(id, filename, size) {\n",
              "      if (!google.colab.kernel.accessAllowed) {\n",
              "        return;\n",
              "      }\n",
              "      const div = document.createElement('div');\n",
              "      const label = document.createElement('label');\n",
              "      label.textContent = `Downloading \"${filename}\": `;\n",
              "      div.appendChild(label);\n",
              "      const progress = document.createElement('progress');\n",
              "      progress.max = size;\n",
              "      div.appendChild(progress);\n",
              "      document.body.appendChild(div);\n",
              "\n",
              "      const buffers = [];\n",
              "      let downloaded = 0;\n",
              "\n",
              "      const channel = await google.colab.kernel.comms.open(id);\n",
              "      // Send a message to notify the kernel that we're ready.\n",
              "      channel.send({})\n",
              "\n",
              "      for await (const message of channel.messages) {\n",
              "        // Send a message to notify the kernel that we're ready.\n",
              "        channel.send({})\n",
              "        if (message.buffers) {\n",
              "          for (const buffer of message.buffers) {\n",
              "            buffers.push(buffer);\n",
              "            downloaded += buffer.byteLength;\n",
              "            progress.value = downloaded;\n",
              "          }\n",
              "        }\n",
              "      }\n",
              "      const blob = new Blob(buffers, {type: 'application/binary'});\n",
              "      const a = document.createElement('a');\n",
              "      a.href = window.URL.createObjectURL(blob);\n",
              "      a.download = filename;\n",
              "      div.appendChild(a);\n",
              "      a.click();\n",
              "      div.remove();\n",
              "    }\n",
              "  "
            ]
          },
          "metadata": {}
        },
        {
          "output_type": "display_data",
          "data": {
            "text/plain": [
              "<IPython.core.display.Javascript object>"
            ],
            "application/javascript": [
              "download(\"download_3422afb4-98d1-4d1b-978e-57cb182eb2d4\", \"bestest_model.keras\", 3626763)"
            ]
          },
          "metadata": {}
        }
      ],
      "source": [
        "from google.colab import files\n",
        "\n",
        "# Save the model in .h5 format (if needed) or in .keras format\n",
        "model.save('bestest_model.keras')\n",
        "\n",
        "# Download the model to your local machine\n",
        "files.download('bestest_model.keras')\n"
      ]
    }
  ],
  "metadata": {
    "colab": {
      "provenance": [],
      "gpuType": "T4"
    },
    "kaggle": {
      "accelerator": "none",
      "dataSources": [
        {
          "datasetId": 974176,
          "sourceId": 1647438,
          "sourceType": "datasetVersion"
        }
      ],
      "dockerImageVersionId": 30804,
      "isGpuEnabled": false,
      "isInternetEnabled": false,
      "language": "python",
      "sourceType": "notebook"
    },
    "kernelspec": {
      "display_name": "Python 3",
      "name": "python3"
    },
    "language_info": {
      "codemirror_mode": {
        "name": "ipython",
        "version": 3
      },
      "file_extension": ".py",
      "mimetype": "text/x-python",
      "name": "python",
      "nbconvert_exporter": "python",
      "pygments_lexer": "ipython3",
      "version": "3.10.14"
    },
    "accelerator": "GPU"
  },
  "nbformat": 4,
  "nbformat_minor": 0
}